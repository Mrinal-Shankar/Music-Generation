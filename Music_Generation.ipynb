{
  "nbformat": 4,
  "nbformat_minor": 0,
  "metadata": {
    "colab": {
      "name": "Music-Generation.ipynb",
      "provenance": [],
      "collapsed_sections": [],
      "mount_file_id": "1nCRSsOJLOE-6YnXFzyDiF3msyn2FM4YD",
      "authorship_tag": "ABX9TyPLyuLbDC7fu1NN6Ij4seoN",
      "include_colab_link": true
    },
    "kernelspec": {
      "name": "python3",
      "display_name": "Python 3"
    },
    "accelerator": "GPU"
  },
  "cells": [
    {
      "cell_type": "markdown",
      "metadata": {
        "id": "view-in-github",
        "colab_type": "text"
      },
      "source": [
        "<a href=\"https://colab.research.google.com/github/Mrinal-Shankar/Music-Generation/blob/master/Music_Generation.ipynb\" target=\"_parent\"><img src=\"https://colab.research.google.com/assets/colab-badge.svg\" alt=\"Open In Colab\"/></a>"
      ]
    },
    {
      "cell_type": "code",
      "metadata": {
        "id": "wmD8LaxlGjcp",
        "colab_type": "code",
        "colab": {}
      },
      "source": [
        "import tensorflow as tf\n",
        "import os\n",
        "import numpy as np\n",
        "from tensorflow.keras.callbacks import ModelCheckpoint\n",
        "from tensorflow.keras.layers import Embedding,LSTM,Dense,Dropout,TimeDistributed,Activation\n",
        "from music21 import *"
      ],
      "execution_count": 0,
      "outputs": []
    },
    {
      "cell_type": "code",
      "metadata": {
        "id": "ED9Dcv5vU0-p",
        "colab_type": "code",
        "colab": {}
      },
      "source": [
        "directory=\"/content/drive/My Drive/Music Generation\"\n",
        "filename=\"/content/drive/My Drive/Music Generation/Data_Tunes.txt\"\n",
        "SEQ_LENGTH=64\n",
        "BATCH_SIZE=16\n",
        "limit=200"
      ],
      "execution_count": 0,
      "outputs": []
    },
    {
      "cell_type": "code",
      "metadata": {
        "id": "hVo9sB2dV7PJ",
        "colab_type": "code",
        "colab": {}
      },
      "source": [
        "def preprocess(data):\n",
        "  list1=list(data)\n",
        "  list2=['\\n','\\n','\\n']\n",
        "  ignore=['X','T','M','S','K','P']\n",
        "  i=0\n",
        "  #to remove Part1:\n",
        "  while(i<len(list1)):\n",
        "    if(((list1[i] in ignore) and (list1[i+1]==\":\"))or list1[i]=='%' ):\n",
        "      del list2[-1]\n",
        "      while(list1[i]!='\\n'):\n",
        "        i=i+1\n",
        "    list2.append(list1[i])\n",
        "    i=i+1\n",
        "  i=0\n",
        "  #to append 'Z'(start token)\n",
        "  preprocess_data=[]\n",
        "  while(i<len(list2)):\n",
        "    if(list2[i]=='\\n'and list2[i+1]=='\\n' and list2[i+2]=='\\n'):\n",
        "      preprocess_data.append('Z')\n",
        "      i=i+3\n",
        "    else:\n",
        "      preprocess_data.append(list2[i])\n",
        "      i=i+1\n",
        "  return preprocess_data"
      ],
      "execution_count": 0,
      "outputs": []
    },
    {
      "cell_type": "code",
      "metadata": {
        "id": "gCwH-j0Wa861",
        "colab_type": "code",
        "colab": {}
      },
      "source": [
        "def read_data(preprocess_data):\n",
        "  char_to_index = {ch: i for (i, ch) in enumerate(sorted(list(set(preprocess_data))))}\n",
        "\n",
        "    \n",
        "  #with open(os.path.join(data_directory, charIndex_json), mode = \"w\") as f:\n",
        "        #json.dump(char_to_index, f)\n",
        "        \n",
        "  index_to_char = {i: ch for (ch, i) in char_to_index.items()}\n",
        "  num_unique_chars = len(char_to_index)\n",
        "  all_characters_as_indices = np.asarray([char_to_index[c] for c in preprocess_data], dtype = np.int32)\n",
        "  return all_characters_as_indices,num_unique_chars,char_to_index,index_to_char\n",
        "\n"
      ],
      "execution_count": 0,
      "outputs": []
    },
    {
      "cell_type": "code",
      "metadata": {
        "id": "DzRduxUXVcbN",
        "colab_type": "code",
        "colab": {}
      },
      "source": [
        "file=open(filename,mode='r')\n",
        "data=file.read()\n",
        "file.close()\n",
        "\n",
        "preprocessed_data=preprocess(data)"
      ],
      "execution_count": 0,
      "outputs": []
    },
    {
      "cell_type": "code",
      "metadata": {
        "id": "1jOditELVqqR",
        "colab_type": "code",
        "colab": {}
      },
      "source": [
        " all_characters_as_indices,num_unique_characters,char_to_index,index_to_char=read_data(preprocessed_data)"
      ],
      "execution_count": 0,
      "outputs": []
    },
    {
      "cell_type": "code",
      "metadata": {
        "id": "eP0gzOAVVuX2",
        "colab_type": "code",
        "outputId": "e9c996cd-8d02-44cc-8325-42a99d309180",
        "colab": {
          "base_uri": "https://localhost:8080/",
          "height": 34
        }
      },
      "source": [
        "print(num_unique_characters)"
      ],
      "execution_count": 7,
      "outputs": [
        {
          "output_type": "stream",
          "text": [
            "59\n"
          ],
          "name": "stdout"
        }
      ]
    },
    {
      "cell_type": "code",
      "metadata": {
        "id": "zBzxP5AjpVt9",
        "colab_type": "code",
        "outputId": "8de8ebc7-c7fa-48c0-c0fd-cebad89e6179",
        "colab": {
          "base_uri": "https://localhost:8080/",
          "height": 34
        }
      },
      "source": [
        "len(all_characters_as_indices)"
      ],
      "execution_count": 8,
      "outputs": [
        {
          "output_type": "execute_result",
          "data": {
            "text/plain": [
              "116963"
            ]
          },
          "metadata": {
            "tags": []
          },
          "execution_count": 8
        }
      ]
    },
    {
      "cell_type": "markdown",
      "metadata": {
        "id": "Nqz6yjsGpVRt",
        "colab_type": "text"
      },
      "source": [
        ""
      ]
    },
    {
      "cell_type": "code",
      "metadata": {
        "id": "lo-_OWd4Vxwp",
        "colab_type": "code",
        "outputId": "a7628397-983e-410c-b6b4-60fa690c4cb1",
        "colab": {
          "base_uri": "https://localhost:8080/",
          "height": 54
        }
      },
      "source": [
        "print(char_to_index)"
      ],
      "execution_count": 9,
      "outputs": [
        {
          "output_type": "stream",
          "text": [
            "{'\\n': 0, ' ': 1, '!': 2, '\"': 3, '#': 4, \"'\": 5, '(': 6, ')': 7, '+': 8, ',': 9, '-': 10, '/': 11, '1': 12, '2': 13, '3': 14, '4': 15, '6': 16, '7': 17, '8': 18, '9': 19, ':': 20, '=': 21, 'A': 22, 'B': 23, 'C': 24, 'D': 25, 'E': 26, 'F': 27, 'G': 28, 'H': 29, 'L': 30, 'R': 31, 'V': 32, 'Z': 33, '[': 34, '\\\\': 35, ']': 36, '^': 37, '_': 38, 'a': 39, 'b': 40, 'c': 41, 'd': 42, 'e': 43, 'f': 44, 'g': 45, 'i': 46, 'l': 47, 'm': 48, 'n': 49, 'o': 50, 'p': 51, 'r': 52, 's': 53, 't': 54, 'u': 55, 'z': 56, '|': 57, '~': 58}\n"
          ],
          "name": "stdout"
        }
      ]
    },
    {
      "cell_type": "code",
      "metadata": {
        "id": "DlMvZG8nIADZ",
        "colab_type": "code",
        "colab": {}
      },
      "source": [
        "def input_output(all_chars_as_indices,num_unique_chars):\n",
        "\n",
        "  total_length=all_chars_as_indices.shape[0]\n",
        "  num_examples=int(total_length/SEQ_LENGTH)\n",
        "  X=np.zeros((num_examples,SEQ_LENGTH))\n",
        "  Y=np.zeros((num_examples,SEQ_LENGTH,num_unique_chars))\n",
        "  for i in range(num_examples):\n",
        "    for j in range(SEQ_LENGTH):\n",
        "      X[i,j]=all_chars_as_indices[i*SEQ_LENGTH+j]\n",
        "      Y[i,j,all_chars_as_indices[i*SEQ_LENGTH+j+1]]=1\n",
        "  return X,Y\n",
        "\n",
        "   "
      ],
      "execution_count": 0,
      "outputs": []
    },
    {
      "cell_type": "code",
      "metadata": {
        "id": "EeoH-SfpQthK",
        "colab_type": "code",
        "colab": {}
      },
      "source": [
        "x,y=input_output(all_characters_as_indices,num_unique_characters)"
      ],
      "execution_count": 0,
      "outputs": []
    },
    {
      "cell_type": "code",
      "metadata": {
        "id": "qiZuC-jpW6wP",
        "colab_type": "code",
        "colab": {}
      },
      "source": [
        "def build_model(seq_length,num_unique_chars):\n",
        "  model = tf.keras.Sequential()\n",
        "    \n",
        "  model.add(Embedding(input_dim = num_unique_chars, output_dim = 512, input_shape = (seq_length,))) \n",
        "    \n",
        "  model.add(LSTM(256, return_sequences = True))\n",
        "  model.add(Dropout(0.2))\n",
        "    \n",
        "  model.add(LSTM(256, return_sequences = True))\n",
        "  model.add(Dropout(0.2))\n",
        "  model.add(LSTM(256, return_sequences = True))\n",
        "  model.add(Dropout(0.2))\n",
        "    \n",
        "    \n",
        "  model.add(TimeDistributed(Dense(num_unique_chars)))\n",
        "\n",
        "  model.add(Activation(\"softmax\"))\n",
        "    \n",
        "  return model"
      ],
      "execution_count": 0,
      "outputs": []
    },
    {
      "cell_type": "code",
      "metadata": {
        "id": "TBwek0T-Xieu",
        "colab_type": "code",
        "colab": {}
      },
      "source": [
        "model=build_model(SEQ_LENGTH,num_unique_characters)"
      ],
      "execution_count": 0,
      "outputs": []
    },
    {
      "cell_type": "code",
      "metadata": {
        "id": "EBIYAzIpX8jW",
        "colab_type": "code",
        "colab": {
          "base_uri": "https://localhost:8080/",
          "height": 1000
        },
        "outputId": "3dc4088b-2364-4d9a-abcc-a0d3c9e04926"
      },
      "source": [
        "model.compile(loss='categorical_crossentropy',\n",
        "               optimizer='adam',\n",
        "                metrics=\"accuracy\")\n",
        "model.summary()\n",
        "checkpoint=ModelCheckpoint(filepath='weights.{epoch:02d}.hdf5',monitor='loss',save_best_only=True,save_weights=True,save_every='10')\n",
        "model.fit(x,y,batch_size=BATCH_SIZE,epochs=80,callbacks=[checkpoint])"
      ],
      "execution_count": 14,
      "outputs": [
        {
          "output_type": "stream",
          "text": [
            "Model: \"sequential\"\n",
            "_________________________________________________________________\n",
            "Layer (type)                 Output Shape              Param #   \n",
            "=================================================================\n",
            "embedding (Embedding)        (None, 64, 512)           30208     \n",
            "_________________________________________________________________\n",
            "lstm (LSTM)                  (None, 64, 256)           787456    \n",
            "_________________________________________________________________\n",
            "dropout (Dropout)            (None, 64, 256)           0         \n",
            "_________________________________________________________________\n",
            "lstm_1 (LSTM)                (None, 64, 256)           525312    \n",
            "_________________________________________________________________\n",
            "dropout_1 (Dropout)          (None, 64, 256)           0         \n",
            "_________________________________________________________________\n",
            "lstm_2 (LSTM)                (None, 64, 256)           525312    \n",
            "_________________________________________________________________\n",
            "dropout_2 (Dropout)          (None, 64, 256)           0         \n",
            "_________________________________________________________________\n",
            "time_distributed (TimeDistri (None, 64, 59)            15163     \n",
            "_________________________________________________________________\n",
            "activation (Activation)      (None, 64, 59)            0         \n",
            "=================================================================\n",
            "Total params: 1,883,451\n",
            "Trainable params: 1,883,451\n",
            "Non-trainable params: 0\n",
            "_________________________________________________________________\n",
            "Epoch 1/80\n",
            "115/115 [==============================] - 2s 20ms/step - loss: 3.0608 - accuracy: 0.1896\n",
            "Epoch 2/80\n",
            "115/115 [==============================] - 2s 19ms/step - loss: 2.1572 - accuracy: 0.3903\n",
            "Epoch 3/80\n",
            "115/115 [==============================] - 2s 20ms/step - loss: 1.8086 - accuracy: 0.4531\n",
            "Epoch 4/80\n",
            "115/115 [==============================] - 2s 20ms/step - loss: 1.6357 - accuracy: 0.4808\n",
            "Epoch 5/80\n",
            "115/115 [==============================] - 2s 20ms/step - loss: 1.5371 - accuracy: 0.5043\n",
            "Epoch 6/80\n",
            "115/115 [==============================] - 2s 19ms/step - loss: 1.4658 - accuracy: 0.5263\n",
            "Epoch 7/80\n",
            "115/115 [==============================] - 2s 19ms/step - loss: 1.4042 - accuracy: 0.5432\n",
            "Epoch 8/80\n",
            "115/115 [==============================] - 2s 19ms/step - loss: 1.3525 - accuracy: 0.5594\n",
            "Epoch 9/80\n",
            "115/115 [==============================] - 2s 19ms/step - loss: 1.3079 - accuracy: 0.5729\n",
            "Epoch 10/80\n",
            "115/115 [==============================] - 2s 19ms/step - loss: 1.2684 - accuracy: 0.5842\n",
            "Epoch 11/80\n",
            "115/115 [==============================] - 2s 20ms/step - loss: 1.2357 - accuracy: 0.5928\n",
            "Epoch 12/80\n",
            "115/115 [==============================] - 2s 20ms/step - loss: 1.2032 - accuracy: 0.6030\n",
            "Epoch 13/80\n",
            "115/115 [==============================] - 2s 20ms/step - loss: 1.1759 - accuracy: 0.6110\n",
            "Epoch 14/80\n",
            "115/115 [==============================] - 2s 20ms/step - loss: 1.1459 - accuracy: 0.6216\n",
            "Epoch 15/80\n",
            "115/115 [==============================] - 2s 20ms/step - loss: 1.1208 - accuracy: 0.6272\n",
            "Epoch 16/80\n",
            "115/115 [==============================] - 2s 20ms/step - loss: 1.0996 - accuracy: 0.6341\n",
            "Epoch 17/80\n",
            "115/115 [==============================] - 2s 20ms/step - loss: 1.0760 - accuracy: 0.6436\n",
            "Epoch 18/80\n",
            "115/115 [==============================] - 2s 20ms/step - loss: 1.0515 - accuracy: 0.6504\n",
            "Epoch 19/80\n",
            "115/115 [==============================] - 2s 20ms/step - loss: 1.0315 - accuracy: 0.6567\n",
            "Epoch 20/80\n",
            "115/115 [==============================] - 2s 19ms/step - loss: 1.0062 - accuracy: 0.6657\n",
            "Epoch 21/80\n",
            "115/115 [==============================] - 2s 20ms/step - loss: 0.9863 - accuracy: 0.6713\n",
            "Epoch 22/80\n",
            "115/115 [==============================] - 2s 20ms/step - loss: 0.9640 - accuracy: 0.6788\n",
            "Epoch 23/80\n",
            "115/115 [==============================] - 2s 20ms/step - loss: 0.9489 - accuracy: 0.6842\n",
            "Epoch 24/80\n",
            "115/115 [==============================] - 2s 20ms/step - loss: 0.9240 - accuracy: 0.6924\n",
            "Epoch 25/80\n",
            "115/115 [==============================] - 2s 20ms/step - loss: 0.9031 - accuracy: 0.6987\n",
            "Epoch 26/80\n",
            "115/115 [==============================] - 2s 20ms/step - loss: 0.8824 - accuracy: 0.7052\n",
            "Epoch 27/80\n",
            "115/115 [==============================] - 2s 20ms/step - loss: 0.8632 - accuracy: 0.7111\n",
            "Epoch 28/80\n",
            "115/115 [==============================] - 2s 20ms/step - loss: 0.8414 - accuracy: 0.7185\n",
            "Epoch 29/80\n",
            "115/115 [==============================] - 2s 19ms/step - loss: 0.8235 - accuracy: 0.7248\n",
            "Epoch 30/80\n",
            "115/115 [==============================] - 2s 20ms/step - loss: 0.8052 - accuracy: 0.7308\n",
            "Epoch 31/80\n",
            "115/115 [==============================] - 2s 20ms/step - loss: 0.7853 - accuracy: 0.7373\n",
            "Epoch 32/80\n",
            "115/115 [==============================] - 2s 19ms/step - loss: 0.7628 - accuracy: 0.7451\n",
            "Epoch 33/80\n",
            "115/115 [==============================] - 2s 20ms/step - loss: 0.7483 - accuracy: 0.7497\n",
            "Epoch 34/80\n",
            "115/115 [==============================] - 2s 21ms/step - loss: 0.7337 - accuracy: 0.7553\n",
            "Epoch 35/80\n",
            "115/115 [==============================] - 2s 21ms/step - loss: 0.7117 - accuracy: 0.7609\n",
            "Epoch 36/80\n",
            "115/115 [==============================] - 2s 19ms/step - loss: 0.6956 - accuracy: 0.7661\n",
            "Epoch 37/80\n",
            "115/115 [==============================] - 2s 19ms/step - loss: 0.6788 - accuracy: 0.7713\n",
            "Epoch 38/80\n",
            "115/115 [==============================] - 2s 20ms/step - loss: 0.6638 - accuracy: 0.7768\n",
            "Epoch 39/80\n",
            "115/115 [==============================] - 2s 20ms/step - loss: 0.6491 - accuracy: 0.7821\n",
            "Epoch 40/80\n",
            "115/115 [==============================] - 2s 20ms/step - loss: 0.6333 - accuracy: 0.7854\n",
            "Epoch 41/80\n",
            "115/115 [==============================] - 2s 19ms/step - loss: 0.6167 - accuracy: 0.7922\n",
            "Epoch 42/80\n",
            "115/115 [==============================] - 2s 20ms/step - loss: 0.6030 - accuracy: 0.7963\n",
            "Epoch 43/80\n",
            "115/115 [==============================] - 2s 19ms/step - loss: 0.5874 - accuracy: 0.8016\n",
            "Epoch 44/80\n",
            "115/115 [==============================] - 2s 20ms/step - loss: 0.5757 - accuracy: 0.8050\n",
            "Epoch 45/80\n",
            "115/115 [==============================] - 2s 20ms/step - loss: 0.5626 - accuracy: 0.8084\n",
            "Epoch 46/80\n",
            "115/115 [==============================] - 2s 20ms/step - loss: 0.5473 - accuracy: 0.8148\n",
            "Epoch 47/80\n",
            "115/115 [==============================] - 2s 19ms/step - loss: 0.5362 - accuracy: 0.8181\n",
            "Epoch 48/80\n",
            "115/115 [==============================] - 2s 19ms/step - loss: 0.5268 - accuracy: 0.8223\n",
            "Epoch 49/80\n",
            "115/115 [==============================] - 2s 20ms/step - loss: 0.5159 - accuracy: 0.8249\n",
            "Epoch 50/80\n",
            "115/115 [==============================] - 2s 20ms/step - loss: 0.5026 - accuracy: 0.8292\n",
            "Epoch 51/80\n",
            "115/115 [==============================] - 2s 19ms/step - loss: 0.4938 - accuracy: 0.8317\n",
            "Epoch 52/80\n",
            "115/115 [==============================] - 2s 20ms/step - loss: 0.4894 - accuracy: 0.8333\n",
            "Epoch 53/80\n",
            "115/115 [==============================] - 2s 20ms/step - loss: 0.4730 - accuracy: 0.8398\n",
            "Epoch 54/80\n",
            "115/115 [==============================] - 2s 20ms/step - loss: 0.4628 - accuracy: 0.8421\n",
            "Epoch 55/80\n",
            "115/115 [==============================] - 2s 20ms/step - loss: 0.4598 - accuracy: 0.8438\n",
            "Epoch 56/80\n",
            "115/115 [==============================] - 2s 19ms/step - loss: 0.4492 - accuracy: 0.8474\n",
            "Epoch 57/80\n",
            "115/115 [==============================] - 2s 20ms/step - loss: 0.4352 - accuracy: 0.8512\n",
            "Epoch 58/80\n",
            "115/115 [==============================] - 2s 20ms/step - loss: 0.4339 - accuracy: 0.8512\n",
            "Epoch 59/80\n",
            "115/115 [==============================] - 2s 20ms/step - loss: 0.4233 - accuracy: 0.8555\n",
            "Epoch 60/80\n",
            "115/115 [==============================] - 2s 20ms/step - loss: 0.4140 - accuracy: 0.8587\n",
            "Epoch 61/80\n",
            "115/115 [==============================] - 2s 20ms/step - loss: 0.4085 - accuracy: 0.8605\n",
            "Epoch 62/80\n",
            "115/115 [==============================] - 2s 20ms/step - loss: 0.4010 - accuracy: 0.8626\n",
            "Epoch 63/80\n",
            "115/115 [==============================] - 2s 19ms/step - loss: 0.3935 - accuracy: 0.8653\n",
            "Epoch 64/80\n",
            "115/115 [==============================] - 2s 20ms/step - loss: 0.3896 - accuracy: 0.8657\n",
            "Epoch 65/80\n",
            "115/115 [==============================] - 2s 19ms/step - loss: 0.3871 - accuracy: 0.8660\n",
            "Epoch 66/80\n",
            "115/115 [==============================] - 2s 20ms/step - loss: 0.3790 - accuracy: 0.8700\n",
            "Epoch 67/80\n",
            "115/115 [==============================] - 2s 20ms/step - loss: 0.3753 - accuracy: 0.8708\n",
            "Epoch 68/80\n",
            "115/115 [==============================] - 2s 19ms/step - loss: 0.3630 - accuracy: 0.8747\n",
            "Epoch 69/80\n",
            "115/115 [==============================] - 2s 19ms/step - loss: 0.3603 - accuracy: 0.8759\n",
            "Epoch 70/80\n",
            "115/115 [==============================] - 2s 20ms/step - loss: 0.3595 - accuracy: 0.8755\n",
            "Epoch 71/80\n",
            "115/115 [==============================] - 2s 19ms/step - loss: 0.3482 - accuracy: 0.8809\n",
            "Epoch 72/80\n",
            "115/115 [==============================] - 2s 19ms/step - loss: 0.3493 - accuracy: 0.8798\n",
            "Epoch 73/80\n",
            "115/115 [==============================] - 2s 20ms/step - loss: 0.3390 - accuracy: 0.8833\n",
            "Epoch 74/80\n",
            "115/115 [==============================] - 2s 20ms/step - loss: 0.3375 - accuracy: 0.8837\n",
            "Epoch 75/80\n",
            "115/115 [==============================] - 2s 20ms/step - loss: 0.3319 - accuracy: 0.8855\n",
            "Epoch 76/80\n",
            "115/115 [==============================] - 2s 19ms/step - loss: 0.3294 - accuracy: 0.8867\n",
            "Epoch 77/80\n",
            "115/115 [==============================] - 2s 19ms/step - loss: 0.3332 - accuracy: 0.8849\n",
            "Epoch 78/80\n",
            "115/115 [==============================] - 2s 20ms/step - loss: 0.3239 - accuracy: 0.8886\n",
            "Epoch 79/80\n",
            "115/115 [==============================] - 2s 20ms/step - loss: 0.3192 - accuracy: 0.8896\n",
            "Epoch 80/80\n",
            "115/115 [==============================] - 2s 19ms/step - loss: 0.3121 - accuracy: 0.8922\n"
          ],
          "name": "stdout"
        },
        {
          "output_type": "execute_result",
          "data": {
            "text/plain": [
              "<tensorflow.python.keras.callbacks.History at 0x7f13c0195390>"
            ]
          },
          "metadata": {
            "tags": []
          },
          "execution_count": 14
        }
      ]
    },
    {
      "cell_type": "code",
      "metadata": {
        "id": "lJEiEhC_aVP9",
        "colab_type": "code",
        "colab": {}
      },
      "source": [
        "def make_model(num_unique_chars):\n",
        "  model = tf.keras.Sequential()\n",
        "    \n",
        "  model.add(Embedding(input_dim = num_unique_chars, output_dim = 512, batch_input_shape = (1, 1))) \n",
        "  \n",
        "# stateful: If True, the last state for each sample at index i in a batch will be used \n",
        "# as initial state for the sample of index i in the following batch.\n",
        "  model.add(LSTM(256, return_sequences = True, stateful = True))\n",
        "  model.add(Dropout(0.2))\n",
        "    \n",
        "  model.add(LSTM(256, return_sequences = True, stateful = True))\n",
        "  model.add(Dropout(0.2))\n",
        "    \n",
        "  model.add(LSTM(256,return_sequences=True, stateful = True)) \n",
        "  model.add(Dropout(0.2))\n",
        "    \n",
        "  model.add((Dense(num_unique_chars)))\n",
        "  model.add(Activation(\"softmax\"))\n",
        "    \n",
        "  return model"
      ],
      "execution_count": 0,
      "outputs": []
    },
    {
      "cell_type": "code",
      "metadata": {
        "id": "j2Dm8LSVbYDW",
        "colab_type": "code",
        "colab": {}
      },
      "source": [
        "def generate_sequence(gen_seq_length,num_unique_chars,index_to_char):\n",
        "   \n",
        "    model = make_model(num_unique_chars)\n",
        "    model.load_weights(\"/content/weights.80.hdf5\")\n",
        "     \n",
        "    sequence_index = [char_to_index['Z']]\n",
        "\n",
        "    for _ in range(gen_seq_length):\n",
        "        batch = np.zeros((1, 1))\n",
        "        batch[0, 0] = sequence_index[-1]\n",
        "        \n",
        "        predicted_probs = np.squeeze(model.predict_on_batch(batch))\n",
        "        sample = np.random.choice(range(num_unique_chars), size = 1, p = predicted_probs) \n",
        "      \n",
        "        sequence_index.append(sample[0])\n",
        "    \n",
        "    \n",
        "    seq = ''.join(index_to_char[c] for c in sequence_index)\n",
        "    seq='M:6/8\\n'+str(seq)\n",
        "    return seq"
      ],
      "execution_count": 0,
      "outputs": []
    },
    {
      "cell_type": "code",
      "metadata": {
        "id": "iTzMbvM0SdLu",
        "colab_type": "code",
        "colab": {}
      },
      "source": [
        "music=generate_sequence(limit,num_unique_characters,index_to_char)"
      ],
      "execution_count": 0,
      "outputs": []
    },
    {
      "cell_type": "code",
      "metadata": {
        "id": "vPQhths3UHZj",
        "colab_type": "code",
        "colab": {
          "base_uri": "https://localhost:8080/",
          "height": 54
        },
        "outputId": "71a16af0-04f5-486e-c6e8-53491da201e5"
      },
      "source": [
        "music"
      ],
      "execution_count": 18,
      "outputs": [
        {
          "output_type": "execute_result",
          "data": {
            "text/plain": [
              "'M:6/8\\nZA|\"D\"FGA \"G\"B2A|\"D\"def \"G\"gab|\"D\"fed \"A7\"gec|\"D\"d3 d2:|ZA|\"D\"ded dcd|\"G\"BGG dcB|\"D\"AGF \"A7\"E2A|\"D\"FAD FGA|\"D\"FGA A2d|\"A\"cec \"D\"d3:|Z\"C\"cBA GEG|\"D\"ABc dAc|\"G\"BGG G2d|\\n\"Am\"eAA c2d|\"Am\"eAA eAA|\"G\"BAB GBd'"
            ]
          },
          "metadata": {
            "tags": []
          },
          "execution_count": 18
        }
      ]
    },
    {
      "cell_type": "code",
      "metadata": {
        "id": "7tLQr-b3V47H",
        "colab_type": "code",
        "colab": {}
      },
      "source": [
        "def midi_converter(music):\n",
        "   c = converter.subConverters.ConverterABC()\n",
        "   c.registerOutputExtensions = (\"midi\", )\n",
        "   c.parseData(music)\n",
        "   s = c.stream\n",
        "   s.write('midi', fp='demos.mid')"
      ],
      "execution_count": 0,
      "outputs": []
    },
    {
      "cell_type": "code",
      "metadata": {
        "id": "3euLVYIaWFMt",
        "colab_type": "code",
        "colab": {}
      },
      "source": [
        "midi_converter(music)"
      ],
      "execution_count": 0,
      "outputs": []
    },
    {
      "cell_type": "code",
      "metadata": {
        "id": "spT1uB7Ako95",
        "colab_type": "code",
        "colab": {}
      },
      "source": [
        ""
      ],
      "execution_count": 0,
      "outputs": []
    }
  ]
}